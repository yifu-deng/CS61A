{
 "cells": [
  {
   "cell_type": "code",
   "execution_count": 8,
   "id": "57252a01",
   "metadata": {},
   "outputs": [],
   "source": [
    "class Kangaroo:\n",
    "    def __init__(self):\n",
    "        self.pouch_contents = []\n",
    "\n",
    "    def put_in_pouch(self,x):\n",
    "        for i in range(len(self.pouch_contents)):\n",
    "            if self.pouch_contents[i] == x:\n",
    "                print(x + \" is already in pouch\")\n",
    "                return \n",
    "         \n",
    "        self.pouch_contents.append(x)\n",
    "\n",
    "    def __str__(self):\n",
    "        if( len(self.pouch_contents) == 0 ):\n",
    "            return \"The kangaroo's pouch is empty\"\n",
    "        else:\n",
    "            return \"The kangaroo's pouch contains: \" + str(self.pouch_contents)"
   ]
  },
  {
   "cell_type": "code",
   "execution_count": 7,
   "id": "8a8d4fb0",
   "metadata": {},
   "outputs": [
    {
     "name": "stdout",
     "output_type": "stream",
     "text": [
      "The kangaroo's pouch is empty.\n",
      "ball is already in pouch\n",
      "The kangaroo's pouch contains: ['ball', 'hammer', 'bowling pin']\n"
     ]
    }
   ],
   "source": [
    "K = Kangaroo()\n",
    "print(K)\n",
    "K.put_in_pouch( \"ball\" )\n",
    "K.put_in_pouch( \"hammer\")\n",
    "K.put_in_pouch( \"bowling pin\" )\n",
    "K.put_in_pouch( \"ball\" )\n",
    "print(K)"
   ]
  }
 ],
 "metadata": {
  "kernelspec": {
   "display_name": "Python 3 (ipykernel)",
   "language": "python",
   "name": "python3"
  },
  "language_info": {
   "codemirror_mode": {
    "name": "ipython",
    "version": 3
   },
   "file_extension": ".py",
   "mimetype": "text/x-python",
   "name": "python",
   "nbconvert_exporter": "python",
   "pygments_lexer": "ipython3",
   "version": "3.9.6"
  }
 },
 "nbformat": 4,
 "nbformat_minor": 5
}
