{
 "cells": [
  {
   "cell_type": "code",
   "execution_count": 41,
   "id": "5b33ae78",
   "metadata": {},
   "outputs": [],
   "source": [
    "# Drill: BankAccount\n",
    "class BankAccount:\n",
    "    def __init__(self, initial):\n",
    "        self.balance = initial\n",
    "        \n",
    "    def deposit(self, amount):\n",
    "        self.balance = self.balance + amount\n",
    "        \n",
    "    def withdraw(self, amount):\n",
    "        self.balance = self.balance - amount\n",
    "        \n",
    "    def overdrawn(self):\n",
    "        return self.balance < 0\n",
    "    \n",
    "    def __str__(self):\n",
    "        return \"balance: \" + str(self.balance)"
   ]
  },
  {
   "cell_type": "code",
   "execution_count": 44,
   "id": "b7b1701f",
   "metadata": {},
   "outputs": [
    {
     "name": "stdout",
     "output_type": "stream",
     "text": [
      "balance: 150\n",
      "balance: 350\n",
      "balance: 300\n",
      "False\n",
      "balance: -200\n",
      "True\n"
     ]
    }
   ],
   "source": [
    "# test BankAccount\n",
    "a = BankAccount(150)\n",
    "print( a )\n",
    "\n",
    "a.deposit(200)\n",
    "print( a )\n",
    "\n",
    "a.withdraw(50)\n",
    "print( a )\n",
    "print( a.overdrawn() )\n",
    "\n",
    "a.withdraw(500)\n",
    "print( a )\n",
    "print( a.overdrawn() )"
   ]
  },
  {
   "cell_type": "code",
   "execution_count": 45,
   "id": "fbfdec3a",
   "metadata": {},
   "outputs": [
    {
     "name": "stdout",
     "output_type": "stream",
     "text": [
      "balance: 1500\n",
      "balance: -200\n"
     ]
    }
   ],
   "source": [
    "# more BankAccounts\n",
    "b = BankAccount(1500)\n",
    "print(b)\n",
    "print(a)"
   ]
  }
 ],
 "metadata": {
  "kernelspec": {
   "display_name": "Python 3 (ipykernel)",
   "language": "python",
   "name": "python3"
  },
  "language_info": {
   "codemirror_mode": {
    "name": "ipython",
    "version": 3
   },
   "file_extension": ".py",
   "mimetype": "text/x-python",
   "name": "python",
   "nbconvert_exporter": "python",
   "pygments_lexer": "ipython3",
   "version": "3.9.6"
  }
 },
 "nbformat": 4,
 "nbformat_minor": 5
}
