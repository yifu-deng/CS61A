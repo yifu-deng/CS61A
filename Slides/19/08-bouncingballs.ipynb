{
 "cells": [
  {
   "cell_type": "code",
   "execution_count": 1,
   "id": "6c430789",
   "metadata": {},
   "outputs": [
    {
     "name": "stderr",
     "output_type": "stream",
     "text": [
      "/Users/hfarid/Library/Python/3.9/lib/python/site-packages/drawSvg/raster.py:25: RuntimeWarning: CairoSVG will need to be installed to rasterize images: Install with `pip3 install cairosvg`\n",
      "Original ImportError: No module named 'cairocffi'\n",
      "  warnings.warn(msg, RuntimeWarning)\n"
     ]
    }
   ],
   "source": [
    "import drawSvg as draw\n",
    "from random import randint, random"
   ]
  },
  {
   "cell_type": "code",
   "execution_count": 5,
   "id": "290fced4",
   "metadata": {},
   "outputs": [],
   "source": [
    "# Ball class\n",
    "class Ball:\n",
    "    def __init__(self, start_x, start_y, start_v_x, start_v_y, color='blue'):\n",
    "        # Ball location, velocity, and color\n",
    "        self.x = start_x\n",
    "        self.y = start_y\n",
    "        self.v_x = start_v_x\n",
    "        self.v_y = start_v_y\n",
    "\n",
    "    def update_position(self, timestep=1):\n",
    "        self.x = self.x + timestep * self.v_x\n",
    "        self.y = self.y + timestep * self.v_y \n",
    "        if( self.y <= -CANVAS_HEIGHT/2+BALL_RADIUS ): # bounce ball off floor\n",
    "            self.v_y = -self.v_y\n",
    "            self.y = self.y + timestep * self.v_y\n",
    "\n",
    "    def update_velocity(self, timestep=1):\n",
    "        self.v_y = self.v_y + timestep * EARTH_GRAVITY_ACCELERATION\n",
    "\n",
    "    def animate_step(self, timestep=1):\n",
    "        self.update_position(timestep)\n",
    "        self.update_velocity(timestep)\n",
    "\n",
    "    def draw_ball(self): # assumes canvas (D) has been created\n",
    "        D.append(draw.Circle(self.x, self.y, BALL_RADIUS, fill=self.color))  "
   ]
  },
  {
   "cell_type": "code",
   "execution_count": 39,
   "id": "eeaecccc",
   "metadata": {},
   "outputs": [
    {
     "name": "stdout",
     "output_type": "stream",
     "text": [
      "the x-coordinate is  5.0\n",
      "the y-coordinate is  5.0\n",
      "the x-coordinate is  8.0\n",
      "the y-coordinate is  11.0\n",
      "the y-velocity is  -3.8000000000000007\n"
     ]
    },
    {
     "data": {
      "image/svg+xml": [
       "<?xml version=\"1.0\" encoding=\"UTF-8\"?>\n",
       "<svg xmlns=\"http://www.w3.org/2000/svg\" xmlns:xlink=\"http://www.w3.org/1999/xlink\"\n",
       "     width=\"400\" height=\"400\" viewBox=\"-200.0 -200.0 400 400\">\n",
       "<defs>\n",
       "</defs>\n",
       "<circle cx=\"11.0\" cy=\"-17.0\" r=\"10\" fill=\"blue\" />\n",
       "<circle cx=\"-5.0\" cy=\"5.0\" r=\"10\" fill=\"red\" />\n",
       "</svg>"
      ],
      "text/plain": [
       "<drawSvg.drawing.Drawing at 0x11b02aa90>"
      ]
     },
     "execution_count": 39,
     "metadata": {},
     "output_type": "execute_result"
    }
   ],
   "source": [
    "# test Ball class\n",
    "CANVAS_WIDTH  = 400\n",
    "CANVAS_HEIGHT = 400\n",
    "EARTH_GRAVITY_ACCELERATION = -9.8   # acceleration due to gravity, m/sec^2\n",
    "BALL_RADIUS = 10  # radius of the ball in pixels\n",
    "D = draw.Drawing(CANVAS_WIDTH, CANVAS_HEIGHT, origin='center') # define drawing canvas\n",
    "\n",
    "ball1 = Ball(5.0, 5.0, 3.0, 6.0)\n",
    "print( \"the x-coordinate is \", ball1.x)\n",
    "print( \"the y-coordinate is \", ball1.y)\n",
    "\n",
    "ball1.update_position()\n",
    "print( \"the x-coordinate is \", ball1.x)\n",
    "print( \"the y-coordinate is \", ball1.y)\n",
    "\n",
    "ball1.animate_step()\n",
    "print( \"the y-velocity is \", ball1.v_y)\n",
    "\n",
    "ball1.draw_ball()\n",
    "\n",
    "ball2 = Ball(-5.0, -5.0, -3.0, -6.0, \"red\")\n",
    "ball2.draw_ball()\n",
    "D"
   ]
  },
  {
   "cell_type": "code",
   "execution_count": null,
   "id": "cb539b32",
   "metadata": {},
   "outputs": [],
   "source": []
  },
  {
   "cell_type": "code",
   "execution_count": null,
   "id": "271369b7",
   "metadata": {},
   "outputs": [],
   "source": []
  },
  {
   "cell_type": "code",
   "execution_count": null,
   "id": "4e3851ed",
   "metadata": {},
   "outputs": [
    {
     "data": {
      "image/svg+xml": [
       "<?xml version=\"1.0\" encoding=\"UTF-8\"?>\n",
       "<svg xmlns=\"http://www.w3.org/2000/svg\" xmlns:xlink=\"http://www.w3.org/1999/xlink\"\n",
       "     width=\"400\" height=\"400\" viewBox=\"-200.0 -200.0 400 400\">\n",
       "<defs>\n",
       "</defs>\n",
       "<circle cx=\"328.0\" cy=\"37.40800000000005\" r=\"10\" fill=\"green\" />\n",
       "<circle cx=\"-328.0\" cy=\"78.84000000000003\" r=\"10\" fill=\"red\" />\n",
       "</svg>"
      ],
      "text/plain": [
       "<drawSvg.drawing.Drawing at 0x105494a30>"
      ]
     },
     "metadata": {},
     "output_type": "display_data"
    }
   ],
   "source": [
    "# simple two-Ball animation\n",
    "ball1 = Ball(5.0, 5.0, 10.0, 20.0, \"green\")\n",
    "ball2 = Ball(-5.0, -5.0, -10.0, 20.0, \"red\")\n",
    "\n",
    "def draw_frame():\n",
    "    ball1.draw_ball()\n",
    "    ball2.draw_ball()\n",
    "    return D\n",
    "\n",
    "for i in range(0,500):\n",
    "    D = draw.Drawing(CANVAS_WIDTH, CANVAS_HEIGHT, origin='center') # erase canvas\n",
    "    \n",
    "    with draw.animate_jupyter(draw_frame, delay=0.05) as anim:\n",
    "        anim.draw_frame()\n",
    "        \n",
    "    ball1.animate_step(0.1)\n",
    "    ball2.animate_step(0.1)"
   ]
  },
  {
   "cell_type": "code",
   "execution_count": null,
   "id": "d3688d0f",
   "metadata": {},
   "outputs": [],
   "source": []
  },
  {
   "cell_type": "code",
   "execution_count": null,
   "id": "2ab094bf",
   "metadata": {},
   "outputs": [],
   "source": []
  },
  {
   "cell_type": "code",
   "execution_count": 34,
   "id": "dc8b9f66",
   "metadata": {},
   "outputs": [
    {
     "ename": "TypeError",
     "evalue": "animate_step() takes 1 positional argument but 2 were given",
     "output_type": "error",
     "traceback": [
      "\u001b[0;31m---------------------------------------------------------------------------\u001b[0m",
      "\u001b[0;31mTypeError\u001b[0m                                 Traceback (most recent call last)",
      "Cell \u001b[0;32mIn [34], line 29\u001b[0m\n\u001b[1;32m     27\u001b[0m D \u001b[38;5;241m=\u001b[39m draw\u001b[38;5;241m.\u001b[39mDrawing(CANVAS_WIDTH, CANVAS_HEIGHT, origin\u001b[38;5;241m=\u001b[39m\u001b[38;5;124m'\u001b[39m\u001b[38;5;124mcenter\u001b[39m\u001b[38;5;124m'\u001b[39m ) \u001b[38;5;66;03m# erase canvas\u001b[39;00m\n\u001b[1;32m     28\u001b[0m \u001b[38;5;28;01mwith\u001b[39;00m draw\u001b[38;5;241m.\u001b[39manimate_jupyter(draw_frame, delay\u001b[38;5;241m=\u001b[39m\u001b[38;5;241m0.05\u001b[39m) \u001b[38;5;28;01mas\u001b[39;00m anim:\n\u001b[0;32m---> 29\u001b[0m     \u001b[43manim\u001b[49m\u001b[38;5;241;43m.\u001b[39;49m\u001b[43mdraw_frame\u001b[49m\u001b[43m(\u001b[49m\u001b[43m)\u001b[49m\n",
      "File \u001b[0;32m~/Library/Python/3.9/lib/python/site-packages/drawSvg/animation.py:21\u001b[0m, in \u001b[0;36mAnimation.draw_frame\u001b[0;34m(self, *args, **kwargs)\u001b[0m\n\u001b[1;32m     20\u001b[0m \u001b[38;5;28;01mdef\u001b[39;00m \u001b[38;5;21mdraw_frame\u001b[39m(\u001b[38;5;28mself\u001b[39m, \u001b[38;5;241m*\u001b[39margs, \u001b[38;5;241m*\u001b[39m\u001b[38;5;241m*\u001b[39mkwargs):\n\u001b[0;32m---> 21\u001b[0m     frame \u001b[38;5;241m=\u001b[39m \u001b[38;5;28;43mself\u001b[39;49m\u001b[38;5;241;43m.\u001b[39;49m\u001b[43mdraw_func\u001b[49m\u001b[43m(\u001b[49m\u001b[38;5;241;43m*\u001b[39;49m\u001b[43margs\u001b[49m\u001b[43m,\u001b[49m\u001b[43m \u001b[49m\u001b[38;5;241;43m*\u001b[39;49m\u001b[38;5;241;43m*\u001b[39;49m\u001b[43mkwargs\u001b[49m\u001b[43m)\u001b[49m\n\u001b[1;32m     22\u001b[0m     \u001b[38;5;28mself\u001b[39m\u001b[38;5;241m.\u001b[39mappend_frame(frame)\n\u001b[1;32m     23\u001b[0m     \u001b[38;5;28;01mreturn\u001b[39;00m frame\n",
      "Cell \u001b[0;32mIn [34], line 11\u001b[0m, in \u001b[0;36mdraw_frame\u001b[0;34m()\u001b[0m\n\u001b[1;32m      9\u001b[0m     b\u001b[38;5;241m.\u001b[39mdraw_ball();\n\u001b[1;32m     10\u001b[0m \u001b[38;5;28;01mfor\u001b[39;00m b \u001b[38;5;129;01min\u001b[39;00m ball_list:\n\u001b[0;32m---> 11\u001b[0m     \u001b[43mb\u001b[49m\u001b[38;5;241;43m.\u001b[39;49m\u001b[43manimate_step\u001b[49m\u001b[43m(\u001b[49m\u001b[38;5;241;43m0.2\u001b[39;49m\u001b[43m)\u001b[49m\n\u001b[1;32m     12\u001b[0m \u001b[38;5;28;01mreturn\u001b[39;00m D\n",
      "\u001b[0;31mTypeError\u001b[0m: animate_step() takes 1 positional argument but 2 were given"
     ]
    }
   ],
   "source": [
    "# Bouncing Ball Pit\n",
    "CANVAS_WIDTH  = 500\n",
    "CANVAS_HEIGHT = 500\n",
    "BALL_RADIUS   = 10  # radius of the ball in pixels\n",
    "EARTH_GRAVITY_ACCELERATION = -9.8   # acceleration due to gravity, m/sec^2\n",
    "\n",
    "def draw_frame():\n",
    "    for b in ball_list:\n",
    "        b.draw_ball();\n",
    "    for b in ball_list:\n",
    "        b.animate_step(0.2)\n",
    "    return D    \n",
    "\n",
    "# build ball pit\n",
    "ball_list = []; # initialize empty list\n",
    "colors = ['red', 'orange', 'yellow', 'green', 'blue', 'indigo', 'violet']\n",
    "for i in range(1,200):\n",
    "    x  = randint(-CANVAS_WIDTH/2,CANVAS_WIDTH/2)\n",
    "    y  = randint(-CANVAS_HEIGHT/2,CANVAS_HEIGHT/2)\n",
    "    vx = 20*random() - 10\n",
    "    vy = 20*random() - 10\n",
    "    c  = randint(0,len(colors)-1)\n",
    "    ball_list.append( Ball(x, y, vx, vy, colors[c]) )\n",
    "\n",
    "# animate ball pit\n",
    "for i in range(0,500):\n",
    "    D = draw.Drawing(CANVAS_WIDTH, CANVAS_HEIGHT, origin='center' ) # erase canvas\n",
    "    with draw.animate_jupyter(draw_frame, delay=0.05) as anim:\n",
    "        anim.draw_frame()"
   ]
  },
  {
   "cell_type": "code",
   "execution_count": null,
   "id": "9aa415f5",
   "metadata": {},
   "outputs": [],
   "source": []
  }
 ],
 "metadata": {
  "kernelspec": {
   "display_name": "Python 3 (ipykernel)",
   "language": "python",
   "name": "python3"
  },
  "language_info": {
   "codemirror_mode": {
    "name": "ipython",
    "version": 3
   },
   "file_extension": ".py",
   "mimetype": "text/x-python",
   "name": "python",
   "nbconvert_exporter": "python",
   "pygments_lexer": "ipython3",
   "version": "3.9.6"
  }
 },
 "nbformat": 4,
 "nbformat_minor": 5
}
